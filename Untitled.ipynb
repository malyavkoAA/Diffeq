{
 "cells": [
  {
   "cell_type": "code",
   "execution_count": 2,
   "metadata": {},
   "outputs": [
    {
     "data": {
      "image/png": "[encoded data removed]",
      "text/plain": [
       "<Figure size 432x288 with 1 Axes>"
      ]
     },
     "metadata": {
      "needs_background": "light"
     },
     "output_type": "display_data"
    }
   ],
   "source": [
    "import matplotlib.pyplot as plt  #Программная библиотека Python построения графиков\n",
    "import math                      #Программная библиотека Python математических функций\n",
    "e1=0.4        \n",
    "e2=0.6        \n",
    "r1=0.02\n",
    "r2=0.1\n",
    "rmin=6\n",
    "Q10=1\n",
    "Q20=8\n",
    "dt=0.0001 # малый промежуток времени\n",
    "p=0.003     # Цена\n",
    "g=0 # Амплитуда возмущения\n",
    "A=450  # Прибыльность предпринимательской деятельности\n",
    "Um=[0.001,0.025,0.035,0.04]# Начальные условия U\n",
    "Pm=4# Начальные условия P\n",
    "P1=2\n",
    "P2=4\n",
    "P0=1\n",
    "def Q1(r):  #Функция Q1\n",
    "    return Q10*(r/(r+r1)+e1*r)\n",
    "\n",
    "def Q2(r):  #Функция Q2\n",
    "    if (r>rmin):\n",
    "        k=1\n",
    "    else:\n",
    "        k=0 #Реализация теты\n",
    "    return k*(Q20*(r-rmin)/(r-rmin+r2)+e2*(r-rmin))\n",
    "\n",
    "def ksi(t): #Нормальная ункция распределения\n",
    "    return g*math.exp(-t**2)\n",
    "\n",
    "def P1f(U):\n",
    "    return P1             # работяги\n",
    "\n",
    "def P2f(U):\n",
    "    return P2             # специалисты\n",
    "\n",
    "def P3f(U):\n",
    "    return A*U+P0         # предприниматели\n",
    "\n",
    "\n",
    "\n",
    "\n",
    "#Построим графики P и Q\n",
    "i=0\n",
    "U=0\n",
    "dU=0.0004\n",
    "while i<200:\n",
    "    plt.plot([U,U+dU],[Q1(U/p)+Q2(U/p),Q1((U+dU)/p)+Q2((U+dU)/p)],color=\"#CCCCCC\") #Построение графика Q\n",
    "    plt.plot([U,U+dU],[P1f(U),P1f(U+dU)],color=\"#EEEEEE\") #Построение графика P1\n",
    "    plt.plot([U,U+dU],[P2f(U),P2f(U+dU)],color=\"#EEEEEE\") #Построение графика P2\n",
    "    plt.plot([U,U+dU],[P3f(U),P3f(U+dU)],color=\"#EEEEEE\") #Построение графика P3\n",
    "    U=U+dU\n",
    "    i+=1\n",
    "\n",
    "\n",
    "j=0\n",
    "while j<4: #Запуск построения 12 линий\n",
    "    i=0\n",
    "    U1=U2=U3=Um[j]      \n",
    "    Plast1=P1f(U1)          #Запомним состояние P1f\n",
    "    Plast2=P2f(U2)          #Запомним состояние P2f\n",
    "    Plast3=P3f(U3)          #Запомним состояние P3f\n",
    "    t=0                   #Отсчет времени с нуля\n",
    "    while i<=100:         #Построение линий по 100 отрезкам\n",
    "        dU1=dt*(Plast1-Q1(U1/p)-Q2(U1/p)+ksi(t)) #Изменение U (численный метод)\n",
    "        Ulast1=U1\n",
    "        dU2=dt*(Plast2-Q1(U2/p)-Q2(U2/p)+ksi(t)) #Изменение U (численный метод)\n",
    "        Ulast2=U2\n",
    "        dU3=dt*(Plast3-Q1(U3/p)-Q2(U3/p)+ksi(t)) #Изменение U (численный метод)\n",
    "        Ulast3=U3\n",
    "        U1+=dU1\n",
    "        U2+=dU2\n",
    "        U3+=dU3\n",
    "        t+=dt    #Время считаем от нуля\n",
    "        if(i<20):\n",
    "            plt.plot([Ulast1,U1],[Plast1,P1f(U1)],color=\"#C080C0\") #Построение отрезка по 2 точкам\n",
    "            plt.plot([Ulast2,U2],[Plast2,P2f(U2)],color=\"#C080C0\") #Построение отрезка по 2 точкам\n",
    "            plt.plot([Ulast3,U3],[Plast3,P3f(U3)],color=\"#C080C0\") #Построение отрезка по 2 точкам  \n",
    "        else:\n",
    "            plt.plot([Ulast1,U1],[Plast1,P1f(U1)],color=\"#E0C0E0\") #То же самое, но другой цвет\n",
    "            plt.plot([Ulast2,U2],[Plast2,P2f(U2)],color=\"#E0C0E0\") #То же самое, но другой цвет\n",
    "            plt.plot([Ulast3,U3],[Plast3,P3f(U3)],color=\"#E0C0E0\") #То же самое, но другой цвет\n",
    "        Plast1=P1f(U1)       #Запомним состояние P1f\n",
    "        Plast2=P2f(U2)       #Запомним состояние P2f\n",
    "        Plast3=P3f(U3)       #Запомним состояние P3f\n",
    "        i+=1\n",
    "    j+=1\n",
    "    \n",
    "\n",
    "plt.show() #Вывод графика на экран\n"
   ]
  },
  {
   "cell_type": "code",
   "execution_count": null,
   "metadata": {},
   "outputs": [],
   "source": []
  }
 ],
 "metadata": {
  "kernelspec": {
   "display_name": "Python 3",
   "language": "python",
   "name": "python3"
  },
  "language_info": {
   "codemirror_mode": {
    "name": "ipython",
    "version": 3
   },
   "file_extension": ".py",
   "mimetype": "text/x-python",
   "name": "python",
   "nbconvert_exporter": "python",
   "pygments_lexer": "ipython3",
   "version": "3.7.1"
  }
 },
 "nbformat": 4,
 "nbformat_minor": 2
}
